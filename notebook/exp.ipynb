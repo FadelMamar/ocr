{
 "cells": [
  {
   "cell_type": "markdown",
   "id": "2e3576bf",
   "metadata": {},
   "source": [
    "# Demo OCR"
   ]
  },
  {
   "cell_type": "code",
   "execution_count": 1,
   "id": "0acf480a",
   "metadata": {},
   "outputs": [],
   "source": [
    "import ollama\n",
    "import PIL.Image\n",
    "from  pdf2image import pdf2image\n",
    "import io\n",
    "from pathlib import Path\n",
    "import base64\n",
    "import os"
   ]
  },
  {
   "cell_type": "code",
   "execution_count": 4,
   "id": "f132cac0",
   "metadata": {},
   "outputs": [],
   "source": [
    "# Convert pdf to image\n",
    "path = r\"C:\\Users\\FADELCO\\Downloads\\Immatriculation DGI NIF.pdf\"\n",
    "images = pdf2image.convert_from_path(pdf_path=path,\n",
    "                                     thread_count=2\n",
    "                                     )"
   ]
  },
  {
   "cell_type": "code",
   "execution_count": null,
   "id": "942dcdb3",
   "metadata": {},
   "outputs": [],
   "source": [
    "for i,img in enumerate(images):\n",
    "    s = Path(\"../data\") / (f\"{i}-\" +  Path(path).with_suffix(\".jpg\").name)\n",
    "    img.save(s)"
   ]
  },
  {
   "cell_type": "code",
   "execution_count": 48,
   "id": "87d70042",
   "metadata": {},
   "outputs": [],
   "source": [
    "prompt = \"Extract the text from the image. Reply directly\""
   ]
  },
  {
   "cell_type": "code",
   "execution_count": 5,
   "id": "958a1035",
   "metadata": {},
   "outputs": [],
   "source": [
    "image_dir = \"../data\""
   ]
  },
  {
   "cell_type": "code",
   "execution_count": 39,
   "id": "a2512f02",
   "metadata": {},
   "outputs": [
    {
     "data": {
      "text/plain": [
       "[WindowsPath('../data/0-Immatriculation DGI NIF.jpg'),\n",
       " WindowsPath('../data/1-Immatriculation DGI NIF.jpg')]"
      ]
     },
     "execution_count": 39,
     "metadata": {},
     "output_type": "execute_result"
    }
   ],
   "source": [
    "image_paths = list(Path(image_dir).glob(\"*.jpg\"))\n",
    "image_paths"
   ]
  },
  {
   "cell_type": "markdown",
   "id": "700501b0",
   "metadata": {},
   "source": [
    "### Ollama"
   ]
  },
  {
   "cell_type": "code",
   "execution_count": 34,
   "id": "ff4f064c",
   "metadata": {},
   "outputs": [],
   "source": [
    "response = ollama.generate(\n",
    "    model=\"gemma3:4b\",  # Choose your desired model\n",
    "    prompt=prompt,\n",
    "    images=[image_paths[0]],\n",
    "    options={\"temperature\": 0.1}\n",
    ")"
   ]
  },
  {
   "cell_type": "code",
   "execution_count": 35,
   "id": "f44bbdc4",
   "metadata": {},
   "outputs": [
    {
     "name": "stdout",
     "output_type": "stream",
     "text": [
      "Here's the extracted text from the image:\n",
      "\n",
      "**Certificat d'Immatriculation**\n",
      "\n",
      "**Le contribuable :**\n",
      "\n",
      "Nom, Prénoms ou Raison Sociale : SEYDOU FADEL MAMAR\n",
      "\n",
      "Nom Commercial : DELCAUX CONSULTING\n",
      "\n",
      "Forme Juridique : ENTREPRISE INDIVIDUELE\n",
      "\n",
      "Numéro du Registre de Commerce : NE/NM/2021/A10/00248 DU 21/01/2021\n",
      "\n",
      "Activité : COMMERCE GENERAL / PRESTATION DE SERVICES / FORMATION\n",
      "\n",
      "Adresse : B.P. :\n",
      "NIAMEY\n",
      "\n",
      "Tél : 87366554\n",
      "\n",
      "Section : CUNI\n",
      "\n",
      "Ville : NIAMEY\n",
      "\n",
      "Tél : 207221661\n",
      "\n",
      "Pour Le Directeur Général des Impôts P.O.\n",
      "\n",
      "134517 / R\n",
      "\n",
      "En conséquence, l'intéressé est tenu de faire figurer sur tous les documents professionnels (correspondances, factures, déclarations...) le dit numéro sous peine de sanctions prévues par les textes en vigueur.\n"
     ]
    }
   ],
   "source": [
    "print(response[\"response\"])\n"
   ]
  },
  {
   "cell_type": "code",
   "execution_count": 33,
   "id": "f5dca4b7",
   "metadata": {},
   "outputs": [
    {
     "data": {
      "text/plain": [
       "GenerateResponse(model='gemma3:4b', created_at='2025-06-05T14:39:23.4448365Z', done=True, done_reason='stop', total_duration=130797389400, load_duration=64352300, prompt_eval_count=538, prompt_eval_duration=86627562300, eval_count=500, eval_duration=44081539700, response=\"Here's the extracted text from the image:\\n\\n**I. CONDITIONS D'UTILISATION**\\n\\nLe NIF est un numéro unique, exclusif et invariable. Il ne peut servir qu'à celui à qui il est attribué. Le contribuable doit mentionner son numéro d'identification fiscale.\\n\\n- sur les déclarations fiscales et douanières;\\n- sur les factures délivrées à ses clients;\\n- sur les documents professionnels remis à des tiers;\\n- lors de l'ouverture de comptes, pour les professionnels, auprès des établissements bancaires ou financiers.\\n\\n**II. SUSPENSION, REACTIVATION DE RADIATION**\\n\\n**SUSPENSION**\\n\\nLe NIF peut faire l'objet de suspension:\\n\\n- à initiative de l'administration fiscale en cas de non respect notoire des obligations fiscales par le contribuable;\\n- la suspension du NIF produit les mêmes effets que le défaut de NIF.\\n\\n**REACTIVATION**\\n\\nLa réactivation d'un NIF suspendu est subordonnée à la constitution d'un dossier comportant:\\n\\n- une demande timbrée;\\n- l'original ou la copie légalisée de l'attestation de régularité fiscale du redevant.\\n\\n**RADIATION**\\n\\nLe NIF est définitivement radié:\\n\\n- en cas de délit de fraude;\\n- en cas de cessation définitive d'activité sur présentation de l'original ou une copie légalisée d'une attestation de régularité fiscale.\\n\\nLa suspension ou la radiation d'un NIF n'interrompt pas l'action de l'administration fiscale, notamment en matière de contrôle et de recouvrement pour les périodes non prescrites.\\n\\n**III. SANCTIONS**\\n\\n- Le défaut ou le refus de présentation du certificat d'immatriculation fiscale, aux requiestsions des agents de l'administration fiscale et financière est sanctionné par une amende de Cent Mille (100.000) francs CFA.\\n- Sans préjudice des sanctions pénales prévues par la loi, l'utilisation frauduleuse d'un NIF, l'utilisation abusive de l'immatriculation fiscale est sanctionnée par une amende de Cent Mille (500.000) francs CFA.\\n\\nPour plus d'informations, visitez notre Site Web: www.impots.gouv.ne\", thinking=None, context=[105, 2364, 107, 236840, 3024, 236772, 236771, 236842, 108, 236840, 3024, 236772, 236770, 236842, 108, 82138, 506, 1816, 699, 506, 2471, 236787, 106, 107, 105, 4368, 107, 8291, 236789, 236751, 506, 23583, 1816, 699, 506, 2471, 236787, 108, 1018, 236777, 236761, 48081, 622, 236789, 223376, 159304, 1018, 108, 3258, 646, 6354, 1009, 723, 62472, 4709, 236764, 16163, 584, 1008, 236153, 236761, 6042, 770, 10613, 52697, 690, 236789, 236937, 29634, 1608, 2947, 1998, 1009, 94514, 236859, 236761, 1834, 40415, 10653, 24324, 4928, 1250, 2369, 62472, 513, 236789, 103577, 143573, 236761, 108, 236772, 1270, 1640, 64280, 847, 166923, 1008, 5558, 3236, 12000, 236793, 107, 236772, 1270, 1640, 1707, 1264, 157263, 108996, 1608, 7529, 7391, 236793, 107, 236772, 1270, 1640, 9413, 93091, 201453, 1608, 853, 54358, 236793, 107, 236772, 16003, 569, 537, 236789, 73406, 569, 132813, 236764, 2637, 1640, 93091, 236764, 64450, 853, 130554, 39444, 8303, 3349, 125352, 236761, 108, 1018, 4490, 236761, 81728, 236791, 75764, 236764, 44913, 3767, 4376, 4216, 129651, 1018, 108, 1018, 154222, 236791, 75764, 1018, 108, 3258, 646, 6354, 10613, 12221, 537, 236789, 64854, 569, 19022, 236787, 108, 236772, 1608, 17358, 569, 537, 236789, 70399, 143573, 696, 3151, 569, 1908, 2833, 711, 50743, 853, 25574, 166923, 944, 674, 40415, 10653, 236793, 107, 236772, 759, 19022, 1747, 646, 6354, 25420, 1640, 62071, 72915, 929, 674, 82317, 569, 646, 6354, 236761, 108, 1018, 99278, 3767, 4376, 1018, 108, 4967, 3990, 36975, 513, 236789, 602, 646, 6354, 42747, 236756, 1009, 1159, 20428, 49712, 1608, 759, 24061, 513, 236789, 602, 70453, 23879, 638, 236787, 108, 236772, 3037, 45055, 4648, 1457, 3190, 236793, 107, 236772, 537, 236789, 17368, 3349, 759, 129238, 23132, 17037, 3190, 569, 537, 236789, 1667, 63486, 569, 15064, 1153, 5009, 143573, 1747, 544, 5099, 638, 236761, 108, 1018, 235664, 1018, 108, 3258, 646, 6354, 1009, 162610, 658, 4574, 236859, 236787, 108, 236772, 696, 3151, 569, 2972, 18114, 569, 173611, 236793, 107, 236772, 696, 3151, 569, 92873, 162610, 513, 236789, 68702, 1270, 109577, 569, 537, 236789, 17368, 3349, 3037, 129238, 23132, 17037, 3190, 513, 236789, 2253, 1227, 63486, 569, 15064, 1153, 5009, 143573, 236761, 108, 4967, 19022, 3349, 759, 10483, 513, 236789, 602, 646, 6354, 538, 236789, 2266, 660, 693, 2982, 537, 236789, 2064, 569, 537, 236789, 70399, 143573, 236764, 40680, 696, 50503, 569, 63369, 1008, 569, 215778, 658, 2637, 1640, 173469, 1908, 65303, 31065, 236761, 108, 1018, 10121, 236761, 49953, 26177, 1018, 108, 236772, 1834, 82317, 3349, 674, 125513, 569, 109577, 1747, 199434, 513, 236789, 548, 141507, 2294, 143573, 236764, 6397, 1221, 236747, 7573, 878, 853, 11362, 569, 537, 236789, 70399, 143573, 1008, 160481, 1009, 42939, 8504, 944, 3037, 1006, 5664, 569, 3030, 179850, 568, 236770, 236771, 236771, 236761, 236771, 236771, 236771, 236768, 121338, 144664, 236761, 107, 236772, 11867, 8399, 130993, 853, 34779, 38499, 134093, 8399, 164580, 944, 759, 58728, 236764, 537, 236789, 43872, 15797, 1923, 1930, 513, 236789, 602, 646, 6354, 236764, 537, 236789, 43872, 69096, 569, 537, 236789, 548, 141507, 2294, 143573, 1009, 42939, 49712, 944, 3037, 1006, 5664, 569, 3030, 179850, 568, 236810, 236771, 236771, 236761, 236771, 236771, 236771, 236768, 121338, 144664, 236761, 108, 32556, 2915, 513, 236789, 64230, 236764, 1737, 37544, 17004, 20103, 6940, 236787, 6729, 236761, 13815, 1498, 236761, 204759, 236761, 866])"
      ]
     },
     "execution_count": 33,
     "metadata": {},
     "output_type": "execute_result"
    }
   ],
   "source": [
    "response"
   ]
  },
  {
   "cell_type": "markdown",
   "id": "9e5e236b",
   "metadata": {},
   "source": [
    "### Gemini"
   ]
  },
  {
   "cell_type": "code",
   "execution_count": 78,
   "id": "9e935d21",
   "metadata": {},
   "outputs": [],
   "source": [
    "from llama_index.multi_modal_llms.gemini import GeminiMultiModal\n",
    "from llama_index.core import SimpleDirectoryReader\n",
    "from llama_index.core.llms import ChatMessage, ImageBlock,TextBlock\n",
    "import json\n",
    "from llama_index.llms.google_genai import GoogleGenAI\n",
    "from llama_index.core.bridge.pydantic import BaseModel\n",
    "from typing import Sequence\n",
    "from tqdm import tqdm\n",
    "from dotenv import load_dotenv\n"
   ]
  },
  {
   "cell_type": "code",
   "execution_count": null,
   "id": "5880e881",
   "metadata": {},
   "outputs": [
    {
     "data": {
      "text/plain": [
       "True"
      ]
     },
     "execution_count": 79,
     "metadata": {},
     "output_type": "execute_result"
    }
   ],
   "source": [
    "load_dotenv(dotenv_path=\"../.env\")"
   ]
  },
  {
   "cell_type": "code",
   "execution_count": 6,
   "id": "2b34c7f2",
   "metadata": {},
   "outputs": [],
   "source": [
    "image_documents = SimpleDirectoryReader(image_dir).load_data()"
   ]
  },
  {
   "cell_type": "code",
   "execution_count": 75,
   "id": "abadf555",
   "metadata": {},
   "outputs": [],
   "source": [
    "def perform_ocr(prompt:str,image_paths:Sequence, llm):\n",
    "\n",
    "    extracted_txt = []\n",
    "    \n",
    "    for path in tqdm(image_paths,desc=\"Running OCR...\"): \n",
    "\n",
    "        msg = ChatMessage(\n",
    "            role=\"user\",\n",
    "            blocks=[\n",
    "                ImageBlock(path=path),\n",
    "                TextBlock(text=prompt),\n",
    "            ],\n",
    "        )\n",
    "\n",
    "        resp = llm.chat([msg])\n",
    "\n",
    "        text = resp.message.blocks[0].text\n",
    "\n",
    "        extracted_txt.append(text)\n",
    "\n",
    "    return extracted_txt"
   ]
  },
  {
   "cell_type": "code",
   "execution_count": 60,
   "id": "a852494b",
   "metadata": {},
   "outputs": [],
   "source": [
    "class OCR(BaseModel):\n",
    "    \"\"\"A parsed image's content using Optical character recognition.\"\"\"\n",
    "\n",
    "    context: str"
   ]
  },
  {
   "cell_type": "code",
   "execution_count": 73,
   "id": "6e567fd0",
   "metadata": {},
   "outputs": [],
   "source": [
    "model = \"gemini-2.5-flash-preview-04-17\"\n",
    "\n",
    "llm = GoogleGenAI(\n",
    "    model=model,\n",
    "    temperature=0.1\n",
    ") #.as_structured_llm(OCR)\n",
    "\n",
    "# llm = GeminiMultiModal(model=\"models/\" + model,temperature=0.1)"
   ]
  },
  {
   "cell_type": "code",
   "execution_count": 74,
   "id": "d246544f",
   "metadata": {},
   "outputs": [
    {
     "name": "stdout",
     "output_type": "stream",
     "text": [
      "gemini-2.5-flash-preview-04-17 \n",
      "\n",
      "\n",
      "[\"République du Niger\\nMinistère de l'Economie et des Finances\\nDirection Générale des Impôts\\nIGI\\nLe 07/02/2025\\n\\nCertificat d'Immatriculation\\n\\nLe contribuable :\\n\\nNom, Prénoms ou Raison Sociale : SEYDOU FADEL MAMAR\\n\\nNom Commercial : DELCAUX CONSULTING\\nForme Juridique : ENTREPRISE INDIVIDUELLE\\nNuméro du Registre de Commerce : NE/NIM/01/2025/A10/00248 DU 21/01/2025\\nActivité : COMMERCE GENERAL/PRESTATION DE SERVICES/FORMATION\\n\\nAdresse : B.P. : Quartier : SONUCI Ville : NIAMEY\\nTél : 87366554 Rue :\\nSecteur/Section : CUN I Ilot : Parcelle :\\nMarché : Boutique N° :\\n\\nA été immatriculé sous le numéro d'identification fiscale (NIF) : 134517 / R\\nà la suite de sa prise en compte dans les services de la Direction Générale des Impôts.\\n\\nEn conséquence, l'intéressé est tenu de faire figurer sur tous les documents professionnels (correspondances, factures, déclarations...) ledit numéro sous peine de sanctions prévues par les textes en vigueur.\\n\\nSERVICE FISCAL DE RATTACHEMENT\\n\\nNom : CENTRE DES IMPOTS YANTALA\\nAdresse : YANTALA Ville : NIAMEY\\nTél : 207223661\\n\\nPour Le Directeur Général des Impôts P.O\\n\\nLE CHEF DE SERVICE IMMATRICULATION\\nSAIDOU NAHANTCHI BAWALLE\\n\\nScanné avec CamScanner\", \"Certificat d'immatriculation\\n\\nI. CONDITIONS D'UTILISATION\\n\\nLe NIF est un numéro unique, exclusif et invariable. Il ne peut servir qu'à celui à qui il est attribué. Le contribuable doit\\nmentionner son numéro d'identification fiscale :\\n- lors des démarches entreprises auprès des administrations;\\n- sur ses déclarations fiscales et douanières;\\n- sur les factures délivrées à ses clients;\\n- sur les documents professionnels remis à des tiers;\\n- lors de l'ouverture de comptes, par les professionnels, auprès des établissements bancaires ou financiers.\\n\\nII. SUSPENSION, REACTIVATION ET RADIATION\\n\\n•SUSPENSION\\nLe NIF peut faire l'objet de suspension :\\n- à l'initiative du contribuable qui en fait la demande motivée;\\n- à l'initiative de l'administration fiscale en cas de non respect notoire des obligations fiscales par le contribuable\\nLa suspension du NIF produit les mêmes effets que le défaut de NIF\\n\\n•REACTIVATION\\nLa réactivation d'un NIF suspendu est subordonnée à la constitution d'un dossier comportant :\\n- une demande timbrée\\n- l'originale ou la copie légalisée de l'attestation de régularité fiscale du requérant.\\n\\n•RADIATION\\nLe NIF est définitivement radié :\\n- en cas de décès du contribuable;\\n- en cas de cessation définitive d'activité sur présentation de l'original ou une copie légalisée d'une attestation de\\nrégularité fiscale.\\nLa suspension ou la radiation d'un NIF n'interrompt pas l'action de l'administration fiscale, notamment en matière de\\ncontrôle et de recouvrement pour les périodes non prescrites.\\n\\nIII. SANCTIONS\\n\\n- Le défaut ou le refus de présentation du certificat d'immatricuation fiscale, aux réquisitions des\\nagents de l'administration fiscale et financière est sanctionné par une amende de Cent Mille (100.000)\\nfrancs CFA.\\n- Sans préjudices de sanctions pénales prévues par la loi, l'utilisation frauduleuse d'un numéro\\nd'identification fiscale est sanctionnée par une amende de Cinq Cent Mille (500.000) francs CFA.\\n\\nPour plus d'informations, visitez notre Site Web :\\nwww.impots.gouv.ne\\n\\nScanné avec CamScanner\"]\n"
     ]
    }
   ],
   "source": [
    "print(model,\"\\n\\n\")\n",
    "\n",
    "extracted_text = perform_ocr(prompt=prompt,image_paths=image_paths,llm=llm)\n",
    "\n",
    "print(extracted_text)"
   ]
  },
  {
   "cell_type": "code",
   "execution_count": 77,
   "id": "e0f11944",
   "metadata": {},
   "outputs": [
    {
     "data": {
      "text/plain": [
       "\"Certificat d'immatriculation\\n\\nI. CONDITIONS D'UTILISATION\\n\\nLe NIF est un numéro unique, exclusif et invariable. Il ne peut servir qu'à celui à qui il est attribué. Le contribuable doit\\nmentionner son numéro d'identification fiscale :\\n- lors des démarches entreprises auprès des administrations;\\n- sur ses déclarations fiscales et douanières;\\n- sur les factures délivrées à ses clients;\\n- sur les documents professionnels remis à des tiers;\\n- lors de l'ouverture de comptes, par les professionnels, auprès des établissements bancaires ou financiers.\\n\\nII. SUSPENSION, REACTIVATION ET RADIATION\\n\\n•SUSPENSION\\nLe NIF peut faire l'objet de suspension :\\n- à l'initiative du contribuable qui en fait la demande motivée;\\n- à l'initiative de l'administration fiscale en cas de non respect notoire des obligations fiscales par le contribuable\\nLa suspension du NIF produit les mêmes effets que le défaut de NIF\\n\\n•REACTIVATION\\nLa réactivation d'un NIF suspendu est subordonnée à la constitution d'un dossier comportant :\\n- une demande timbrée\\n- l'originale ou la copie légalisée de l'attestation de régularité fiscale du requérant.\\n\\n•RADIATION\\nLe NIF est définitivement radié :\\n- en cas de décès du contribuable;\\n- en cas de cessation définitive d'activité sur présentation de l'original ou une copie légalisée d'une attestation de\\nrégularité fiscale.\\nLa suspension ou la radiation d'un NIF n'interrompt pas l'action de l'administration fiscale, notamment en matière de\\ncontrôle et de recouvrement pour les périodes non prescrites.\\n\\nIII. SANCTIONS\\n\\n- Le défaut ou le refus de présentation du certificat d'immatricuation fiscale, aux réquisitions des\\nagents de l'administration fiscale et financière est sanctionné par une amende de Cent Mille (100.000)\\nfrancs CFA.\\n- Sans préjudices de sanctions pénales prévues par la loi, l'utilisation frauduleuse d'un numéro\\nd'identification fiscale est sanctionnée par une amende de Cinq Cent Mille (500.000) francs CFA.\\n\\nPour plus d'informations, visitez notre Site Web :\\nwww.impots.gouv.ne\\n\\nScanné avec CamScanner\""
      ]
     },
     "execution_count": 77,
     "metadata": {},
     "output_type": "execute_result"
    }
   ],
   "source": [
    "extracted_text[-1]"
   ]
  },
  {
   "cell_type": "code",
   "execution_count": 66,
   "id": "81058834",
   "metadata": {},
   "outputs": [
    {
     "name": "stdout",
     "output_type": "stream",
     "text": [
      "République du Niger Ministère de l'Economie et des Finances Direction Générale des Impôts IGI Le 07/02/2025 Certificat d'Immatriculation Le contribuable : Nom, Prénoms ou Raison Sociale : SEYDOU FADEL MAMAR Nom Commercial : DELCAUX CONSULTING Forme Juridique : ENTREPRISE INDIVIDUELLE Numéro du Registre de Commerce : NE/NIM/01/2025/A10/00248 DU 21/01/2025 Activité: COMMERCE GENERAL/PRESTATION DE SERVICES/FORMATION Adresse : B.P. : Quartier : SONUCI Ville : NIAMEY Tél : 87366554 Rue : Secteur/Section : CUNI llot : Parcelle : Marché : Boutique N° : A été immatriculé sous le numéro d'identification fiscale (NIF) : 134517 / R à la suite de sa prise en compte dans les services de la Direction Générale des Impôts. En conséquence, l'intéressé est tenu de faire figurer sur tous les documents professionnels (correspondances, factures, déclarations...) ledit numéro sous peine de sanctions prévues par les textes en vigueur. SERVICE FISCAL DE RATTACHEMENT Nom : CENTRE DES IMPOTS YANTALA Adresse : YANTALA Ville : NIAMEY Tél : 207223661 Pour Le Directeur Général des Impôts P.O LE CHEF DE SERVICE IMMATRICULATION SAIDOU NAHANTCHI BAWALLE Scanné avec CamScanner\n"
     ]
    }
   ],
   "source": [
    "print(json.loads(extracted_text)[\"context\"])"
   ]
  }
 ],
 "metadata": {
  "kernelspec": {
   "display_name": ".venv",
   "language": "python",
   "name": "python3"
  },
  "language_info": {
   "codemirror_mode": {
    "name": "ipython",
    "version": 3
   },
   "file_extension": ".py",
   "mimetype": "text/x-python",
   "name": "python",
   "nbconvert_exporter": "python",
   "pygments_lexer": "ipython3",
   "version": "3.12.9"
  }
 },
 "nbformat": 4,
 "nbformat_minor": 5
}
